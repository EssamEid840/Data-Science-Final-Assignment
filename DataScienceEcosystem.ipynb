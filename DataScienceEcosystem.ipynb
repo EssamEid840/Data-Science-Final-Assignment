{
 "cells": [
  {
   "cell_type": "markdown",
   "id": "fa74fc91-9dbe-436c-9698-37c038599852",
   "metadata": {},
   "source": [
    "# Data Science Tools and Ecosystem"
   ]
  },
  {
   "cell_type": "markdown",
   "id": "018aa6cd-90e5-48a3-9346-3692009735ba",
   "metadata": {},
   "source": [
    "In this notebook, Data Science Tools and Ecosystem are summarized"
   ]
  },
  {
   "cell_type": "markdown",
   "id": "c48c6a17-5d2e-4ea1-b8bb-c76ea047d27f",
   "metadata": {},
   "source": [
    "Some of the popular languages that Data Scientists use are:"
   ]
  },
  {
   "cell_type": "markdown",
   "id": "e52e20da-59ae-4706-97ef-58a236095cfe",
   "metadata": {},
   "source": [
    "1. Python\n",
    "2. R\n",
    "3. SQL\n"
   ]
  },
  {
   "cell_type": "markdown",
   "id": "43622edd-4d5a-4ba0-9691-1de2ae01425e",
   "metadata": {},
   "source": [
    "Some of the commonly used libraries used by Data Scientists include:"
   ]
  },
  {
   "cell_type": "markdown",
   "id": "c1c1ac43-ee81-4b28-8257-90cfcbd5d06d",
   "metadata": {
    "tags": []
   },
   "source": [
    "1. NumPy\n",
    "2. Pandas\n",
    "3. Matplotlib"
   ]
  },
  {
   "cell_type": "markdown",
   "id": "56d2d481-d62b-4683-8f4e-278f5de93bd8",
   "metadata": {},
   "source": [
    "Data Science Tools"
   ]
  },
  {
   "cell_type": "markdown",
   "id": "640338c7-be73-4fa0-aae7-dde6d2b11b04",
   "metadata": {},
   "source": [
    "| Data Science Tools       |\n",
    "|------------------------------|\n",
    "| Jupyter Notebook|\n",
    "| Apache Zeppelin\n",
    "| RStudio"
   ]
  },
  {
   "cell_type": "markdown",
   "id": "4929f01d-086c-4283-866a-7f4dc2cdd396",
   "metadata": {},
   "source": [
    "### Below are a few examples of evaluating arithmetic expressions in Python"
   ]
  },
  {
   "cell_type": "markdown",
   "id": "8303949d-daea-44d1-b672-5e6072753930",
   "metadata": {},
   "source": [
    "This a simple arithmetic expression to mutiply then add integers"
   ]
  },
  {
   "cell_type": "code",
   "execution_count": 2,
   "id": "194df672-db85-4af2-b8b8-9e824be2d9ef",
   "metadata": {
    "tags": []
   },
   "outputs": [
    {
     "data": {
      "text/plain": [
       "17"
      ]
     },
     "execution_count": 2,
     "metadata": {},
     "output_type": "execute_result"
    }
   ],
   "source": [
    "(3*4)+5"
   ]
  },
  {
   "cell_type": "markdown",
   "id": "a4d45cc3-ce3f-4973-b8f3-40f1042b4d01",
   "metadata": {},
   "source": [
    "This will convert 200 minutes to hours by diving by 60"
   ]
  },
  {
   "cell_type": "code",
   "execution_count": 3,
   "id": "172727fe-3ee3-4e49-9e1c-eecd0d4856c7",
   "metadata": {
    "tags": []
   },
   "outputs": [
    {
     "data": {
      "text/plain": [
       "3.3333333333333335"
      ]
     },
     "execution_count": 3,
     "metadata": {},
     "output_type": "execute_result"
    }
   ],
   "source": [
    "hours = 200 / 60\n",
    "hours"
   ]
  },
  {
   "cell_type": "markdown",
   "id": "c114e6e4-54f4-48d2-b566-646df7845e4f",
   "metadata": {},
   "source": [
    "__Objectives:__"
   ]
  },
  {
   "cell_type": "markdown",
   "id": "f36f4696-8033-4cdd-bb1c-9e81866cd6a9",
   "metadata": {},
   "source": [
    "- List popular languages for Data Science\n",
    "- List Data Science Tools and Ecosystem\n",
    "- List popular languages that Data Scientists"
   ]
  },
  {
   "cell_type": "markdown",
   "id": "dadc60cd-3e5d-401d-bafd-85c6b54f1f28",
   "metadata": {},
   "source": [
    "## Author"
   ]
  },
  {
   "cell_type": "markdown",
   "id": "112488e1-fb5b-49d3-8ff5-cceeed99d463",
   "metadata": {},
   "source": [
    "Essam Eid"
   ]
  },
  {
   "cell_type": "code",
   "execution_count": null,
   "id": "da5ad9c9-afa2-46c0-8dc9-73566dc71b46",
   "metadata": {},
   "outputs": [],
   "source": []
  }
 ],
 "metadata": {
  "kernelspec": {
   "display_name": "Python",
   "language": "python",
   "name": "conda-env-python-py"
  },
  "language_info": {
   "codemirror_mode": {
    "name": "ipython",
    "version": 3
   },
   "file_extension": ".py",
   "mimetype": "text/x-python",
   "name": "python",
   "nbconvert_exporter": "python",
   "pygments_lexer": "ipython3",
   "version": "3.7.12"
  }
 },
 "nbformat": 4,
 "nbformat_minor": 5
}
